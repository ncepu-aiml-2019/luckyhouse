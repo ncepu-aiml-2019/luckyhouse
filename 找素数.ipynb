{
 "cells": [
  {
   "cell_type": "code",
   "execution_count": 1,
   "metadata": {},
   "outputs": [
    {
     "name": "stdout",
     "output_type": "stream",
     "text": [
      "输出100以内的所有素数\n",
      "2 是素数\n",
      "3 是素数\n",
      "5 是素数\n",
      "7 是素数\n",
      "11 是素数\n",
      "13 是素数\n",
      "17 是素数\n",
      "19 是素数\n",
      "23 是素数\n",
      "29 是素数\n",
      "31 是素数\n",
      "37 是素数\n",
      "41 是素数\n",
      "43 是素数\n",
      "47 是素数\n",
      "53 是素数\n",
      "59 是素数\n",
      "61 是素数\n",
      "67 是素数\n",
      "71 是素数\n",
      "73 是素数\n",
      "79 是素数\n",
      "83 是素数\n",
      "89 是素数\n",
      "97 是素数\n"
     ]
    }
   ],
   "source": [
    "print('输出100以内的所有素数')\n",
    "for i in range(2,100):\n",
    "    flg = 0\n",
    "    for j in range(2,i-1): \n",
    "        if not(i%j):\n",
    "            flg = 1\n",
    "            break\n",
    "    if(flg == 0):\n",
    "        print(i,'是素数')"
   ]
  },
  {
   "cell_type": "code",
   "execution_count": null,
   "metadata": {},
   "outputs": [],
   "source": []
  }
 ],
 "metadata": {
  "kernelspec": {
   "display_name": "Python 3",
   "language": "python",
   "name": "python3"
  },
  "language_info": {
   "codemirror_mode": {
    "name": "ipython",
    "version": 3
   },
   "file_extension": ".py",
   "mimetype": "text/x-python",
   "name": "python",
   "nbconvert_exporter": "python",
   "pygments_lexer": "ipython3",
   "version": "3.7.4"
  }
 },
 "nbformat": 4,
 "nbformat_minor": 2
}
